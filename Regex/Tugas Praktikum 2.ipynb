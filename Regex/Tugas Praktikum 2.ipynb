{
 "cells": [
  {
   "cell_type": "markdown",
   "id": "16fbdf39",
   "metadata": {},
   "source": [
    "##### NAMA  : ATINA NORA HAYA\n",
    "##### NIM   : 2211110043\n",
    "##### KELAS : SD03B"
   ]
  },
  {
   "cell_type": "code",
   "execution_count": 9,
   "id": "c03c2c6f",
   "metadata": {},
   "outputs": [
    {
     "name": "stdout",
     "output_type": "stream",
     "text": [
      "Requirement already satisfied: faker in /home/atina/anaconda3/lib/python3.11/site-packages (19.10.0)\r\n",
      "Requirement already satisfied: python-dateutil>=2.4 in /home/atina/anaconda3/lib/python3.11/site-packages (from faker) (2.8.2)\r\n",
      "Requirement already satisfied: six>=1.5 in /home/atina/anaconda3/lib/python3.11/site-packages (from python-dateutil>=2.4->faker) (1.16.0)\r\n"
     ]
    }
   ],
   "source": [
    "!pip install faker"
   ]
  },
  {
   "cell_type": "code",
   "execution_count": 17,
   "id": "820c7acf",
   "metadata": {},
   "outputs": [
    {
     "name": "stdout",
     "output_type": "stream",
     "text": [
      "100 data berhasil tersimpan dalam hasil_data.txt.\n"
     ]
    }
   ],
   "source": [
    "from faker import Faker\n",
    "\n",
    "fake = Faker()\n",
    "\n",
    "jml_data = 100\n",
    "\n",
    "hasil_data = []\n",
    "\n",
    "for _ in range(jml_data):\n",
    "    nama = fake.name()\n",
    "    phone = fake.phone_number()\n",
    "    alamat = fake.address()\n",
    "    email = fake.email()\n",
    "    \n",
    "    data = f\"Nama: {nama}\\nEmail: {email}\\nNo.HP: {phone}\\nAlamat: {alamat}\"\n",
    "    hasil_data.append(data)\n",
    "    \n",
    "file_name = \"hasil_data.txt\"\n",
    "with open(file_name, \"w\") as file:\n",
    "    for i in hasil_data:\n",
    "        file.write(i + \"\\n\\n\")\n",
    "        \n",
    "print(f\"{jml_data} data berhasil tersimpan dalam {file_name}.\")"
   ]
  },
  {
   "cell_type": "code",
   "execution_count": 18,
   "id": "3be5e256",
   "metadata": {},
   "outputs": [
    {
     "name": "stdout",
     "output_type": "stream",
     "text": [
      "['shawnjimenez@example.org', 'hannah77@example.net', 'william27@example.com', 'markkent@example.com', 'gwallace@example.net', 'michaeltaylor@example.com', 'vcochran@example.com', 'lopezchristopher@example.com', 'cassandranelson@example.com', 'zgonzalez@example.org', 'vespinoza@example.net', 'vrowland@example.com', 'joy96@example.com', 'amycollins@example.net', 'uburns@example.org', 'stephenevans@example.net', 'josehines@example.net', 'david13@example.org', 'willie79@example.net', 'gutierrezkatherine@example.org', 'josephwhite@example.com', 'smithjennifer@example.com', 'harmoncaleb@example.net', 'longmichelle@example.com', 'kparker@example.net', 'edwardterrell@example.org', 'llowe@example.net', 'hansenchristopher@example.net', 'traviscaldwell@example.org', 'theresa52@example.com', 'annanthony@example.org', 'jennifer91@example.net', 'michael57@example.net', 'davidmoore@example.com', 'armstrongamanda@example.org', 'floresjohn@example.org', 'derrickgarcia@example.com', 'schmidtpaige@example.com', 'larry47@example.org', 'zjones@example.com', 'marissarobinson@example.net', 'amyjordan@example.net', 'silvaalbert@example.com', 'clarencelawson@example.org', 'anna15@example.org', 'iduncan@example.net', 'george59@example.com', 'reedchelsey@example.com', 'pbradley@example.com', 'michael77@example.org', 'turnersarah@example.net', 'millsdylan@example.com', 'charlotte35@example.org', 'ethan13@example.org', 'brandon68@example.org', 'douglaspugh@example.com', 'kyliemiller@example.org', 'floresemma@example.net', 'mwarren@example.org', 'mkent@example.com', 'heatherjohnston@example.org', 'anthonysullivan@example.org', 'sdavis@example.org', 'oturner@example.net', 'elizabeth10@example.com', 'lopeztina@example.com', 'kathleen41@example.net', 'raymondwalker@example.org', 'brian41@example.com', 'hoffmanmark@example.com', 'dolson@example.org', 'zclayton@example.net', 'bradley56@example.com', 'campbellstacy@example.org', 'allenlouis@example.net', 'richardperez@example.com', 'christinaperez@example.com', 'katherineblackwell@example.net', 'walleradam@example.net', 'denisewilson@example.net', 'sandra81@example.net', 'charles18@example.net', 'adamberger@example.org', 'zsmith@example.com', 'susan90@example.net', 'frenchedward@example.com', 'ortizjaclyn@example.org', 'cookmark@example.org', 'shahdebra@example.com', 'lesliewalters@example.com', 'vochoa@example.com', 'anthony10@example.net', 'amarsh@example.org', 'allisoncampbell@example.org', 'natasha52@example.net', 'keith31@example.org', 'janetmorgan@example.org', 'katherineschneider@example.net', 'jreese@example.com', 'daughertyhunter@example.net']\n"
     ]
    }
   ],
   "source": [
    "# Normalisasi email\n",
    "\n",
    "import re\n",
    "\n",
    "pattern = r\"[a-zA-Z0-9_.+-]+@[a-zA-Z0-9-]+\\.[a-zA-Z.]+\"\n",
    "\n",
    "with open(\"hasil_data.txt\", \"r\") as x:\n",
    "    data = x.readlines()\n",
    "    \n",
    "emails = []\n",
    "\n",
    "for i in data:\n",
    "    cocok = re.search(pattern, i)\n",
    "    if cocok:\n",
    "        emails.append(cocok.group())\n",
    "print(emails)    "
   ]
  },
  {
   "cell_type": "code",
   "execution_count": 19,
   "id": "b529d875",
   "metadata": {},
   "outputs": [
    {
     "name": "stdout",
     "output_type": "stream",
     "text": [
      "['5143799936', '6277189223', '7453822392', '724', '4107628465', '958', '8482783059', '5475419110', '0017013932012', '826', '7237058610', '13006943467', '5874921874', '993', '426', '3575939269', '7624210653', '2044488857', '0014859697909', '13445120779', '3419686651', '853', '19855355988', '0018679738398', '3414295931', '0017663890204', '4505784602', '17943871541', '0019907565061', '938', '5842421242', '527', '16126863747', '6822677814', '536', '0016497840334', '17355737316', '448', '7147565047', '16939084698', '5066458394', '3268741719', '15215882609', '205', '4272855612', '18387993262', '7845060054', '0015544681498', '9707492666', '304', '6585520823', '764', '263', '6443162106', '0016294160530', '4036386821', '357', '0019826046969', '883', '18065368233', '14066754360', '5382385865', '5685843074', '8828152795', '693', '7543322650', '6319726488', '0019136092860', '9265766913', '8205800323', '3366629910', '0019694120348', '14755212207', '964', '0016856677347', '391', '0012786060441', '0019997722792', '9844703057', '0012687886096', '402', '4229592171', '5554918626', '15079985273', '2037133516', '5643065553', '0019676379612', '6588782612', '13493043386', '786', '0012512550237', '18617711843', '8862291795', '575', '293', '2242326457', '710', '7977878578', '6069429296', '5777455219']\n"
     ]
    }
   ],
   "source": [
    "# Normalisasi nomor hp\n",
    "\n",
    "import re\n",
    "\n",
    "with open(\"hasil_data.txt\", \"r\") as x:\n",
    "    a = x.readlines()\n",
    "    b = \"\".join(a)\n",
    "    \n",
    "pattern_phone = r\"No.HP:\\s+([\\d+()-]+)\"\n",
    "phone = re.findall(pattern_phone, b)\n",
    "\n",
    "phones = []\n",
    "for i in phone:\n",
    "    num = re.sub(r\"\\s+\", \"\", i, flags=re.I)\n",
    "    num = re.sub(r\"\\W\", \"\", i)\n",
    "    phones.append(num)\n",
    "    \n",
    "print(phones)"
   ]
  },
  {
   "cell_type": "code",
   "execution_count": 21,
   "id": "3acf0859",
   "metadata": {},
   "outputs": [
    {
     "data": {
      "text/html": [
       "<div>\n",
       "<style scoped>\n",
       "    .dataframe tbody tr th:only-of-type {\n",
       "        vertical-align: middle;\n",
       "    }\n",
       "\n",
       "    .dataframe tbody tr th {\n",
       "        vertical-align: top;\n",
       "    }\n",
       "\n",
       "    .dataframe thead th {\n",
       "        text-align: right;\n",
       "    }\n",
       "</style>\n",
       "<table border=\"1\" class=\"dataframe\">\n",
       "  <thead>\n",
       "    <tr style=\"text-align: right;\">\n",
       "      <th></th>\n",
       "      <th>Email</th>\n",
       "      <th>No.HP</th>\n",
       "    </tr>\n",
       "  </thead>\n",
       "  <tbody>\n",
       "    <tr>\n",
       "      <th>0</th>\n",
       "      <td>shawnjimenez@example.org</td>\n",
       "      <td>5143799936</td>\n",
       "    </tr>\n",
       "    <tr>\n",
       "      <th>1</th>\n",
       "      <td>hannah77@example.net</td>\n",
       "      <td>6277189223</td>\n",
       "    </tr>\n",
       "    <tr>\n",
       "      <th>2</th>\n",
       "      <td>william27@example.com</td>\n",
       "      <td>7453822392</td>\n",
       "    </tr>\n",
       "    <tr>\n",
       "      <th>3</th>\n",
       "      <td>markkent@example.com</td>\n",
       "      <td>724</td>\n",
       "    </tr>\n",
       "    <tr>\n",
       "      <th>4</th>\n",
       "      <td>gwallace@example.net</td>\n",
       "      <td>4107628465</td>\n",
       "    </tr>\n",
       "    <tr>\n",
       "      <th>...</th>\n",
       "      <td>...</td>\n",
       "      <td>...</td>\n",
       "    </tr>\n",
       "    <tr>\n",
       "      <th>95</th>\n",
       "      <td>keith31@example.org</td>\n",
       "      <td>2242326457</td>\n",
       "    </tr>\n",
       "    <tr>\n",
       "      <th>96</th>\n",
       "      <td>janetmorgan@example.org</td>\n",
       "      <td>710</td>\n",
       "    </tr>\n",
       "    <tr>\n",
       "      <th>97</th>\n",
       "      <td>katherineschneider@example.net</td>\n",
       "      <td>7977878578</td>\n",
       "    </tr>\n",
       "    <tr>\n",
       "      <th>98</th>\n",
       "      <td>jreese@example.com</td>\n",
       "      <td>6069429296</td>\n",
       "    </tr>\n",
       "    <tr>\n",
       "      <th>99</th>\n",
       "      <td>daughertyhunter@example.net</td>\n",
       "      <td>5777455219</td>\n",
       "    </tr>\n",
       "  </tbody>\n",
       "</table>\n",
       "<p>100 rows × 2 columns</p>\n",
       "</div>"
      ],
      "text/plain": [
       "                             Email       No.HP\n",
       "0         shawnjimenez@example.org  5143799936\n",
       "1             hannah77@example.net  6277189223\n",
       "2            william27@example.com  7453822392\n",
       "3             markkent@example.com         724\n",
       "4             gwallace@example.net  4107628465\n",
       "..                             ...         ...\n",
       "95             keith31@example.org  2242326457\n",
       "96         janetmorgan@example.org         710\n",
       "97  katherineschneider@example.net  7977878578\n",
       "98              jreese@example.com  6069429296\n",
       "99     daughertyhunter@example.net  5777455219\n",
       "\n",
       "[100 rows x 2 columns]"
      ]
     },
     "execution_count": 21,
     "metadata": {},
     "output_type": "execute_result"
    }
   ],
   "source": [
    "import pandas as pd \n",
    "pd.DataFrame({\"Email\": emails, \"No.HP\": phones})"
   ]
  }
 ],
 "metadata": {
  "kernelspec": {
   "display_name": "Python 3 (ipykernel)",
   "language": "python",
   "name": "python3"
  },
  "language_info": {
   "codemirror_mode": {
    "name": "ipython",
    "version": 3
   },
   "file_extension": ".py",
   "mimetype": "text/x-python",
   "name": "python",
   "nbconvert_exporter": "python",
   "pygments_lexer": "ipython3",
   "version": "3.11.4"
  }
 },
 "nbformat": 4,
 "nbformat_minor": 5
}
